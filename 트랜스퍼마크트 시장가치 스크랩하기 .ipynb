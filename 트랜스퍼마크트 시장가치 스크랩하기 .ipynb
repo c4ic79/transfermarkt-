{
 "cells": [
  {
   "cell_type": "code",
   "execution_count": 1,
   "metadata": {},
   "outputs": [
    {
     "data": {
      "text/plain": [
       "200"
      ]
     },
     "execution_count": 1,
     "metadata": {},
     "output_type": "execute_result"
    }
   ],
   "source": [
    "#라이브러리 불러오기\n",
    "import requests\n",
    "from bs4 import BeautifulSoup\n",
    "import pandas as pd\n",
    "\n",
    "#url 정보 요청\n",
    "headers={'User-Agent': 'Mozilla/5.0 (Windows NT 10.0; Win64; x64) AppleWebKit/537.36 (KHTML, like Gecko) Chrome/108.0.0.0 Safari/537.36'}\n",
    "\n",
    "url=f\"https://www.transfermarkt.com/spieler-statistik/wertvollstespieler/marktwertetop\"\n",
    "r=requests.get(url,headers=headers)\n",
    "r.status_code #200 정상적으로 요청됨\n"
   ]
  },
  {
   "cell_type": "code",
   "execution_count": 2,
   "metadata": {},
   "outputs": [],
   "source": [
    "#웹페이지 분석 준비\n",
    "soup=BeautifulSoup(r.content,'html.parser') \n",
    "#print(soup)"
   ]
  },
  {
   "cell_type": "code",
   "execution_count": 3,
   "metadata": {},
   "outputs": [],
   "source": [
    "#가져 오려는 선수들의 정보가 담긴 태그와 클래스 찾기\n",
    "player_info=soup.find_all('tr',class_=[\"odd\",\"even\"])"
   ]
  },
  {
   "cell_type": "code",
   "execution_count": 4,
   "metadata": {},
   "outputs": [
    {
     "name": "stdout",
     "output_type": "stream",
     "text": [
      "<tr class=\"odd\">\n",
      "<td class=\"zentriert\">1</td><td class=\"\"><table class=\"inline-table\"><tr><td rowspan=\"2\"><a href=\"#\"><img alt=\"Kylian Mbappé\" class=\"bilderrahmen-fixed\" src=\"https://img.a.transfermarkt.technology/portrait/small/342229-1632686046.jpg?lm=1\" title=\"Kylian Mbappé\"/></a></td><td class=\"hauptlink\"><a href=\"/kylian-mbappe/profil/spieler/342229\" title=\"Kylian Mbappé\">Kylian Mbappé</a></td></tr><tr><td>Centre-Forward</td></tr></table></td><td class=\"zentriert\">24</td><td class=\"zentriert\"><img alt=\"France\" class=\"flaggenrahmen\" src=\"https://tmssl.akamaized.net/images/flagge/verysmall/50.png?lm=1520611569\" title=\"France\"/><br/><img alt=\"Cameroon\" class=\"flaggenrahmen\" src=\"https://tmssl.akamaized.net/images/flagge/verysmall/31.png?lm=1520611569\" title=\"Cameroon\"/></td><td class=\"zentriert\"><a href=\"/fc-paris-saint-germain/startseite/verein/583\" title=\"Paris Saint-Germain\"><img alt=\"Paris Saint-Germain\" class=\"\" src=\"https://tmssl.akamaized.net/images/wappen/verysmall/583.png?lm=1522312728\" title=\"Paris Saint-Germain\"/></a></td><td class=\"rechts hauptlink\"><a href=\"/kylian-mbappe/marktwertverlauf/spieler/342229\">€180.00m</a> </td></tr>\n"
     ]
    }
   ],
   "source": [
    "print(player_info[0]) #첫번째 선수에 관한 정보가 들어있다"
   ]
  },
  {
   "cell_type": "code",
   "execution_count": 5,
   "metadata": {},
   "outputs": [
    {
     "name": "stdout",
     "output_type": "stream",
     "text": [
      "Kylian Mbappé\n",
      "Erling Haaland\n",
      "Vinicius Junior\n",
      "Jude Bellingham\n",
      "Phil Foden\n",
      "Pedri\n",
      "Jamal Musiala\n",
      "Bukayo Saka\n",
      "Federico Valverde\n",
      "Gavi\n",
      "Aurélien Tchouameni\n",
      "Harry Kane\n",
      "Rafael Leão\n",
      "Rodrygo\n",
      "Declan Rice\n",
      "Rodri\n",
      "Dusan Vlahovic\n",
      "Christopher Nkunku\n",
      "Bernardo Silva\n",
      "Joshua Kimmich\n",
      "Mohamed Salah\n",
      "Kevin De Bruyne\n",
      "Antony\n",
      "Luis Díaz\n",
      "Josko Gvardiol\n"
     ]
    }
   ],
   "source": [
    "for i in player_info:\n",
    "    player=i.find_all('td')\n",
    "    #print(player[0].text)  #선수들의 순위가 담겨 있음\n",
    "    print(player[3].text) #선수들의 이름"
   ]
  },
  {
   "cell_type": "code",
   "execution_count": 6,
   "metadata": {},
   "outputs": [],
   "source": [
    "#정보 담을 리스트생성\n",
    "player_list=[]\n",
    "\n",
    "#여러 페이지 한번에 스크랩하기\n",
    "for i in range (0,20):\n",
    "    url=f\"https://www.transfermarkt.com/spieler-statistik/wertvollstespieler/marktwertetop?page={i}\"\n",
    "    r=requests.get(url,headers=headers)\n",
    "    r.status_code\n",
    "    #웹페이지 분석 준비\n",
    "    soup=BeautifulSoup(r.content,'html.parser') \n",
    "    player_info=soup.find_all('tr',class_=[\"odd\",\"even\"])\n",
    "    \n",
    "    for i in player_info:\n",
    "        player=i.find_all(\"td\")\n",
    "        num=player[0].text    #순위\n",
    "        name=player[3].text   #선수 이름\n",
    "        pos=player[4].text    #포지션\n",
    "        age=player[5].text    #나이\n",
    "        nation=player[6].img['alt']   #국가\n",
    "        team=player[7].img['alt'] #팀\n",
    "        value=player[8].text.strip() #선수 가치\n",
    "        player_list.append([num,name,pos,age,nation,team,value])\n",
    "\n"
   ]
  },
  {
   "cell_type": "code",
   "execution_count": 8,
   "metadata": {},
   "outputs": [
    {
     "data": {
      "text/html": [
       "<div>\n",
       "<style scoped>\n",
       "    .dataframe tbody tr th:only-of-type {\n",
       "        vertical-align: middle;\n",
       "    }\n",
       "\n",
       "    .dataframe tbody tr th {\n",
       "        vertical-align: top;\n",
       "    }\n",
       "\n",
       "    .dataframe thead th {\n",
       "        text-align: right;\n",
       "    }\n",
       "</style>\n",
       "<table border=\"1\" class=\"dataframe\">\n",
       "  <thead>\n",
       "    <tr style=\"text-align: right;\">\n",
       "      <th></th>\n",
       "      <th>number</th>\n",
       "      <th>name</th>\n",
       "      <th>position</th>\n",
       "      <th>age</th>\n",
       "      <th>nation</th>\n",
       "      <th>team</th>\n",
       "      <th>value</th>\n",
       "    </tr>\n",
       "  </thead>\n",
       "  <tbody>\n",
       "    <tr>\n",
       "      <th>0</th>\n",
       "      <td>1</td>\n",
       "      <td>Kylian Mbappé</td>\n",
       "      <td>Centre-Forward</td>\n",
       "      <td>24</td>\n",
       "      <td>France</td>\n",
       "      <td>Paris Saint-Germain</td>\n",
       "      <td>€180.00m</td>\n",
       "    </tr>\n",
       "    <tr>\n",
       "      <th>1</th>\n",
       "      <td>2</td>\n",
       "      <td>Erling Haaland</td>\n",
       "      <td>Centre-Forward</td>\n",
       "      <td>22</td>\n",
       "      <td>Norway</td>\n",
       "      <td>Manchester City</td>\n",
       "      <td>€170.00m</td>\n",
       "    </tr>\n",
       "    <tr>\n",
       "      <th>2</th>\n",
       "      <td>3</td>\n",
       "      <td>Vinicius Junior</td>\n",
       "      <td>Left Winger</td>\n",
       "      <td>22</td>\n",
       "      <td>Brazil</td>\n",
       "      <td>Real Madrid</td>\n",
       "      <td>€120.00m</td>\n",
       "    </tr>\n",
       "    <tr>\n",
       "      <th>3</th>\n",
       "      <td>4</td>\n",
       "      <td>Jude Bellingham</td>\n",
       "      <td>Central Midfield</td>\n",
       "      <td>19</td>\n",
       "      <td>England</td>\n",
       "      <td>Borussia Dortmund</td>\n",
       "      <td>€110.00m</td>\n",
       "    </tr>\n",
       "    <tr>\n",
       "      <th>4</th>\n",
       "      <td>5</td>\n",
       "      <td>Phil Foden</td>\n",
       "      <td>Left Winger</td>\n",
       "      <td>22</td>\n",
       "      <td>England</td>\n",
       "      <td>Manchester City</td>\n",
       "      <td>€110.00m</td>\n",
       "    </tr>\n",
       "    <tr>\n",
       "      <th>...</th>\n",
       "      <td>...</td>\n",
       "      <td>...</td>\n",
       "      <td>...</td>\n",
       "      <td>...</td>\n",
       "      <td>...</td>\n",
       "      <td>...</td>\n",
       "      <td>...</td>\n",
       "    </tr>\n",
       "    <tr>\n",
       "      <th>495</th>\n",
       "      <td>471</td>\n",
       "      <td>Cristiano Ronaldo</td>\n",
       "      <td>Centre-Forward</td>\n",
       "      <td>38</td>\n",
       "      <td>Portugal</td>\n",
       "      <td>Al-Nassr FC</td>\n",
       "      <td>€20.00m</td>\n",
       "    </tr>\n",
       "    <tr>\n",
       "      <th>496</th>\n",
       "      <td>472</td>\n",
       "      <td>Giorgian de Arrascaeta</td>\n",
       "      <td>Attacking Midfield</td>\n",
       "      <td>28</td>\n",
       "      <td>Uruguay</td>\n",
       "      <td>CR Flamengo</td>\n",
       "      <td>€19.00m</td>\n",
       "    </tr>\n",
       "    <tr>\n",
       "      <th>497</th>\n",
       "      <td>473</td>\n",
       "      <td>Vanderson</td>\n",
       "      <td>Right-Back</td>\n",
       "      <td>21</td>\n",
       "      <td>Brazil</td>\n",
       "      <td>AS Monaco</td>\n",
       "      <td>€18.00m</td>\n",
       "    </tr>\n",
       "    <tr>\n",
       "      <th>498</th>\n",
       "      <td>474</td>\n",
       "      <td>Kamaldeen Sulemana</td>\n",
       "      <td>Left Winger</td>\n",
       "      <td>21</td>\n",
       "      <td>Ghana</td>\n",
       "      <td>Southampton FC</td>\n",
       "      <td>€18.00m</td>\n",
       "    </tr>\n",
       "    <tr>\n",
       "      <th>499</th>\n",
       "      <td>475</td>\n",
       "      <td>Elye Wahi</td>\n",
       "      <td>Centre-Forward</td>\n",
       "      <td>20</td>\n",
       "      <td>France</td>\n",
       "      <td>Montpellier HSC</td>\n",
       "      <td>€18.00m</td>\n",
       "    </tr>\n",
       "  </tbody>\n",
       "</table>\n",
       "<p>500 rows × 7 columns</p>\n",
       "</div>"
      ],
      "text/plain": [
       "    number                    name            position age    nation  \\\n",
       "0        1           Kylian Mbappé      Centre-Forward  24    France   \n",
       "1        2          Erling Haaland      Centre-Forward  22    Norway   \n",
       "2        3         Vinicius Junior         Left Winger  22    Brazil   \n",
       "3        4         Jude Bellingham    Central Midfield  19   England   \n",
       "4        5              Phil Foden         Left Winger  22   England   \n",
       "..     ...                     ...                 ...  ..       ...   \n",
       "495    471       Cristiano Ronaldo      Centre-Forward  38  Portugal   \n",
       "496    472  Giorgian de Arrascaeta  Attacking Midfield  28   Uruguay   \n",
       "497    473               Vanderson          Right-Back  21    Brazil   \n",
       "498    474      Kamaldeen Sulemana         Left Winger  21     Ghana   \n",
       "499    475               Elye Wahi      Centre-Forward  20    France   \n",
       "\n",
       "                    team     value  \n",
       "0    Paris Saint-Germain  €180.00m  \n",
       "1        Manchester City  €170.00m  \n",
       "2            Real Madrid  €120.00m  \n",
       "3      Borussia Dortmund  €110.00m  \n",
       "4        Manchester City  €110.00m  \n",
       "..                   ...       ...  \n",
       "495          Al-Nassr FC   €20.00m  \n",
       "496          CR Flamengo   €19.00m  \n",
       "497            AS Monaco   €18.00m  \n",
       "498       Southampton FC   €18.00m  \n",
       "499      Montpellier HSC   €18.00m  \n",
       "\n",
       "[500 rows x 7 columns]"
      ]
     },
     "execution_count": 8,
     "metadata": {},
     "output_type": "execute_result"
    }
   ],
   "source": [
    "df=pd.DataFrame(player_list,columns=['number','name','position','age','nation','team','value'])\n",
    "\n",
    "df"
   ]
  },
  {
   "cell_type": "code",
   "execution_count": null,
   "metadata": {},
   "outputs": [],
   "source": []
  }
 ],
 "metadata": {
  "kernelspec": {
   "display_name": "Python 3",
   "language": "python",
   "name": "python3"
  },
  "language_info": {
   "codemirror_mode": {
    "name": "ipython",
    "version": 3
   },
   "file_extension": ".py",
   "mimetype": "text/x-python",
   "name": "python",
   "nbconvert_exporter": "python",
   "pygments_lexer": "ipython3",
   "version": "3.8.5"
  }
 },
 "nbformat": 4,
 "nbformat_minor": 4
}
